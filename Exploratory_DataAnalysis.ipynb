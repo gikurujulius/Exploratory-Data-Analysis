{
 "cells": [
  {
   "cell_type": "markdown",
   "id": "15554f3d-3b52-45a8-80e5-18ccbd190c65",
   "metadata": {},
   "source": [
    "As a new appointed data analyst of a bike sharing company, we conduct exploratoty data analysis to get a better understanding of our company."
   ]
  },
  {
   "cell_type": "code",
   "execution_count": 2,
   "id": "f0d54760-b028-4ad7-86d4-04722996231e",
   "metadata": {},
   "outputs": [],
   "source": [
    "import numpy as np\n",
    "import pandas as pd\n",
    "import matplotlib.pyplot as plt"
   ]
  },
  {
   "cell_type": "code",
   "execution_count": 3,
   "id": "a27191ee-55c3-4776-96ac-7c050a77dd2f",
   "metadata": {},
   "outputs": [
    {
     "data": {
      "text/html": [
       "<div>\n",
       "<style scoped>\n",
       "    .dataframe tbody tr th:only-of-type {\n",
       "        vertical-align: middle;\n",
       "    }\n",
       "\n",
       "    .dataframe tbody tr th {\n",
       "        vertical-align: top;\n",
       "    }\n",
       "\n",
       "    .dataframe thead th {\n",
       "        text-align: right;\n",
       "    }\n",
       "</style>\n",
       "<table border=\"1\" class=\"dataframe\">\n",
       "  <thead>\n",
       "    <tr style=\"text-align: right;\">\n",
       "      <th></th>\n",
       "      <th>instant</th>\n",
       "      <th>dteday</th>\n",
       "      <th>season</th>\n",
       "      <th>yr</th>\n",
       "      <th>mnth</th>\n",
       "      <th>hr</th>\n",
       "      <th>holiday</th>\n",
       "      <th>weekday</th>\n",
       "      <th>workingday</th>\n",
       "      <th>weathersit</th>\n",
       "      <th>temp</th>\n",
       "      <th>atemp</th>\n",
       "      <th>hum</th>\n",
       "      <th>windspeed</th>\n",
       "      <th>casual</th>\n",
       "      <th>registered</th>\n",
       "      <th>count</th>\n",
       "    </tr>\n",
       "  </thead>\n",
       "  <tbody>\n",
       "    <tr>\n",
       "      <th>0</th>\n",
       "      <td>1</td>\n",
       "      <td>1/1/2011</td>\n",
       "      <td>1</td>\n",
       "      <td>0</td>\n",
       "      <td>1</td>\n",
       "      <td>0</td>\n",
       "      <td>0</td>\n",
       "      <td>6</td>\n",
       "      <td>0</td>\n",
       "      <td>1</td>\n",
       "      <td>0.24</td>\n",
       "      <td>0.2879</td>\n",
       "      <td>0.81</td>\n",
       "      <td>0.0</td>\n",
       "      <td>3</td>\n",
       "      <td>13</td>\n",
       "      <td>16</td>\n",
       "    </tr>\n",
       "    <tr>\n",
       "      <th>1</th>\n",
       "      <td>2</td>\n",
       "      <td>1/1/2011</td>\n",
       "      <td>1</td>\n",
       "      <td>0</td>\n",
       "      <td>1</td>\n",
       "      <td>1</td>\n",
       "      <td>0</td>\n",
       "      <td>6</td>\n",
       "      <td>0</td>\n",
       "      <td>1</td>\n",
       "      <td>0.22</td>\n",
       "      <td>0.2727</td>\n",
       "      <td>0.80</td>\n",
       "      <td>0.0</td>\n",
       "      <td>8</td>\n",
       "      <td>32</td>\n",
       "      <td>40</td>\n",
       "    </tr>\n",
       "    <tr>\n",
       "      <th>2</th>\n",
       "      <td>3</td>\n",
       "      <td>1/1/2011</td>\n",
       "      <td>1</td>\n",
       "      <td>0</td>\n",
       "      <td>1</td>\n",
       "      <td>2</td>\n",
       "      <td>0</td>\n",
       "      <td>6</td>\n",
       "      <td>0</td>\n",
       "      <td>1</td>\n",
       "      <td>0.22</td>\n",
       "      <td>0.2727</td>\n",
       "      <td>0.80</td>\n",
       "      <td>0.0</td>\n",
       "      <td>5</td>\n",
       "      <td>27</td>\n",
       "      <td>32</td>\n",
       "    </tr>\n",
       "    <tr>\n",
       "      <th>3</th>\n",
       "      <td>4</td>\n",
       "      <td>1/1/2011</td>\n",
       "      <td>1</td>\n",
       "      <td>0</td>\n",
       "      <td>1</td>\n",
       "      <td>3</td>\n",
       "      <td>0</td>\n",
       "      <td>6</td>\n",
       "      <td>0</td>\n",
       "      <td>1</td>\n",
       "      <td>0.24</td>\n",
       "      <td>0.2879</td>\n",
       "      <td>0.75</td>\n",
       "      <td>0.0</td>\n",
       "      <td>3</td>\n",
       "      <td>10</td>\n",
       "      <td>13</td>\n",
       "    </tr>\n",
       "    <tr>\n",
       "      <th>4</th>\n",
       "      <td>5</td>\n",
       "      <td>1/1/2011</td>\n",
       "      <td>1</td>\n",
       "      <td>0</td>\n",
       "      <td>1</td>\n",
       "      <td>4</td>\n",
       "      <td>0</td>\n",
       "      <td>6</td>\n",
       "      <td>0</td>\n",
       "      <td>1</td>\n",
       "      <td>0.24</td>\n",
       "      <td>0.2879</td>\n",
       "      <td>0.75</td>\n",
       "      <td>0.0</td>\n",
       "      <td>0</td>\n",
       "      <td>1</td>\n",
       "      <td>1</td>\n",
       "    </tr>\n",
       "  </tbody>\n",
       "</table>\n",
       "</div>"
      ],
      "text/plain": [
       "   instant    dteday  season  yr  mnth  hr  holiday  weekday  workingday  \\\n",
       "0        1  1/1/2011       1   0     1   0        0        6           0   \n",
       "1        2  1/1/2011       1   0     1   1        0        6           0   \n",
       "2        3  1/1/2011       1   0     1   2        0        6           0   \n",
       "3        4  1/1/2011       1   0     1   3        0        6           0   \n",
       "4        5  1/1/2011       1   0     1   4        0        6           0   \n",
       "\n",
       "   weathersit  temp   atemp   hum  windspeed  casual  registered  count  \n",
       "0           1  0.24  0.2879  0.81        0.0       3          13     16  \n",
       "1           1  0.22  0.2727  0.80        0.0       8          32     40  \n",
       "2           1  0.22  0.2727  0.80        0.0       5          27     32  \n",
       "3           1  0.24  0.2879  0.75        0.0       3          10     13  \n",
       "4           1  0.24  0.2879  0.75        0.0       0           1      1  "
      ]
     },
     "execution_count": 3,
     "metadata": {},
     "output_type": "execute_result"
    }
   ],
   "source": [
    "bike_data = pd.read_csv('hour.csv', sep = \",\", header = 0)\n",
    "bike_data.head()"
   ]
  },
  {
   "cell_type": "markdown",
   "id": "927d3c99-8fac-4d10-bfd0-06f674dbcc3c",
   "metadata": {},
   "source": [
    "Loaded data contains information, about the date, time, season of the year, holidays, weekdays and weekends,\n",
    "the weather and the most important information is the final three columns. The casual representing the number of people which used the companies bikes in the hour, registered represents the number of registered users, and the count column is the total number of users per hour. (count = casual + registered)\n",
    "The temp, humidity, and windspeed is normalized to be between 0 and 1, with 1 being the highest and 0 the lowest."
   ]
  },
  {
   "cell_type": "markdown",
   "id": "3191cbd8-30d4-473f-8a89-b4e1ce9651f1",
   "metadata": {},
   "source": [
    "Examining casual and registered columns the following trends are identified.\n",
    "    i). There are more registered users than casual ones in most hours. This could mean the business is good at convincing users to register, or the causal process is not easier hence many opt to register or more different scenarios.\n",
    "    ii). There are peak hours for casual users while the registered users are a a bit more distributed during the day even at 1 AM\n"
   ]
  },
  {
   "cell_type": "code",
   "execution_count": 4,
   "id": "d6b54366-097d-46b5-a3f2-8e7591388daa",
   "metadata": {},
   "outputs": [
    {
     "name": "stdout",
     "output_type": "stream",
     "text": [
      "189.46308763450142\n",
      "The standard deviation is:  181.38759909186527\n",
      "The highest number of total users in an hour is:  977\n",
      "The hourly record of registered users is:  886\n",
      "The lowest record of registered users in an hour is:  0\n"
     ]
    }
   ],
   "source": [
    "print(bike_data['count'].mean())\n",
    "print(\"The standard deviation is: \", bike_data['count'].std())\n",
    "print(\"The highest number of total users in an hour is: \", bike_data['count'].max())\n",
    "print(\"The hourly record of registered users is: \", bike_data['registered'].max())\n",
    "print(\"The lowest record of registered users in an hour is: \", bike_data['registered'].min())"
   ]
  },
  {
   "cell_type": "code",
   "execution_count": 5,
   "id": "76e085fd-2de3-497d-881e-9f197a1db73f",
   "metadata": {},
   "outputs": [
    {
     "data": {
      "text/html": [
       "<div>\n",
       "<style scoped>\n",
       "    .dataframe tbody tr th:only-of-type {\n",
       "        vertical-align: middle;\n",
       "    }\n",
       "\n",
       "    .dataframe tbody tr th {\n",
       "        vertical-align: top;\n",
       "    }\n",
       "\n",
       "    .dataframe thead th {\n",
       "        text-align: right;\n",
       "    }\n",
       "</style>\n",
       "<table border=\"1\" class=\"dataframe\">\n",
       "  <thead>\n",
       "    <tr style=\"text-align: right;\">\n",
       "      <th></th>\n",
       "      <th>instant</th>\n",
       "      <th>season</th>\n",
       "      <th>yr</th>\n",
       "      <th>mnth</th>\n",
       "      <th>hr</th>\n",
       "      <th>holiday</th>\n",
       "      <th>weekday</th>\n",
       "      <th>workingday</th>\n",
       "      <th>weathersit</th>\n",
       "      <th>temp</th>\n",
       "      <th>atemp</th>\n",
       "      <th>hum</th>\n",
       "      <th>windspeed</th>\n",
       "      <th>casual</th>\n",
       "      <th>registered</th>\n",
       "      <th>count</th>\n",
       "    </tr>\n",
       "  </thead>\n",
       "  <tbody>\n",
       "    <tr>\n",
       "      <th>count</th>\n",
       "      <td>17379.0000</td>\n",
       "      <td>17379.000000</td>\n",
       "      <td>17379.000000</td>\n",
       "      <td>17379.000000</td>\n",
       "      <td>17379.000000</td>\n",
       "      <td>17379.000000</td>\n",
       "      <td>17379.000000</td>\n",
       "      <td>17379.000000</td>\n",
       "      <td>17379.000000</td>\n",
       "      <td>17379.000000</td>\n",
       "      <td>17379.000000</td>\n",
       "      <td>17379.000000</td>\n",
       "      <td>17379.000000</td>\n",
       "      <td>17379.000000</td>\n",
       "      <td>17379.000000</td>\n",
       "      <td>17379.000000</td>\n",
       "    </tr>\n",
       "    <tr>\n",
       "      <th>mean</th>\n",
       "      <td>8690.0000</td>\n",
       "      <td>2.501640</td>\n",
       "      <td>0.502561</td>\n",
       "      <td>6.537775</td>\n",
       "      <td>11.546752</td>\n",
       "      <td>0.028770</td>\n",
       "      <td>3.003683</td>\n",
       "      <td>0.682721</td>\n",
       "      <td>1.425283</td>\n",
       "      <td>0.496987</td>\n",
       "      <td>0.475775</td>\n",
       "      <td>0.627229</td>\n",
       "      <td>0.190098</td>\n",
       "      <td>35.676218</td>\n",
       "      <td>153.786869</td>\n",
       "      <td>189.463088</td>\n",
       "    </tr>\n",
       "    <tr>\n",
       "      <th>std</th>\n",
       "      <td>5017.0295</td>\n",
       "      <td>1.106918</td>\n",
       "      <td>0.500008</td>\n",
       "      <td>3.438776</td>\n",
       "      <td>6.914405</td>\n",
       "      <td>0.167165</td>\n",
       "      <td>2.005771</td>\n",
       "      <td>0.465431</td>\n",
       "      <td>0.639357</td>\n",
       "      <td>0.192556</td>\n",
       "      <td>0.171850</td>\n",
       "      <td>0.192930</td>\n",
       "      <td>0.122340</td>\n",
       "      <td>49.305030</td>\n",
       "      <td>151.357286</td>\n",
       "      <td>181.387599</td>\n",
       "    </tr>\n",
       "    <tr>\n",
       "      <th>min</th>\n",
       "      <td>1.0000</td>\n",
       "      <td>1.000000</td>\n",
       "      <td>0.000000</td>\n",
       "      <td>1.000000</td>\n",
       "      <td>0.000000</td>\n",
       "      <td>0.000000</td>\n",
       "      <td>0.000000</td>\n",
       "      <td>0.000000</td>\n",
       "      <td>1.000000</td>\n",
       "      <td>0.020000</td>\n",
       "      <td>0.000000</td>\n",
       "      <td>0.000000</td>\n",
       "      <td>0.000000</td>\n",
       "      <td>0.000000</td>\n",
       "      <td>0.000000</td>\n",
       "      <td>1.000000</td>\n",
       "    </tr>\n",
       "    <tr>\n",
       "      <th>25%</th>\n",
       "      <td>4345.5000</td>\n",
       "      <td>2.000000</td>\n",
       "      <td>0.000000</td>\n",
       "      <td>4.000000</td>\n",
       "      <td>6.000000</td>\n",
       "      <td>0.000000</td>\n",
       "      <td>1.000000</td>\n",
       "      <td>0.000000</td>\n",
       "      <td>1.000000</td>\n",
       "      <td>0.340000</td>\n",
       "      <td>0.333300</td>\n",
       "      <td>0.480000</td>\n",
       "      <td>0.104500</td>\n",
       "      <td>4.000000</td>\n",
       "      <td>34.000000</td>\n",
       "      <td>40.000000</td>\n",
       "    </tr>\n",
       "    <tr>\n",
       "      <th>50%</th>\n",
       "      <td>8690.0000</td>\n",
       "      <td>3.000000</td>\n",
       "      <td>1.000000</td>\n",
       "      <td>7.000000</td>\n",
       "      <td>12.000000</td>\n",
       "      <td>0.000000</td>\n",
       "      <td>3.000000</td>\n",
       "      <td>1.000000</td>\n",
       "      <td>1.000000</td>\n",
       "      <td>0.500000</td>\n",
       "      <td>0.484800</td>\n",
       "      <td>0.630000</td>\n",
       "      <td>0.194000</td>\n",
       "      <td>17.000000</td>\n",
       "      <td>115.000000</td>\n",
       "      <td>142.000000</td>\n",
       "    </tr>\n",
       "    <tr>\n",
       "      <th>75%</th>\n",
       "      <td>13034.5000</td>\n",
       "      <td>3.000000</td>\n",
       "      <td>1.000000</td>\n",
       "      <td>10.000000</td>\n",
       "      <td>18.000000</td>\n",
       "      <td>0.000000</td>\n",
       "      <td>5.000000</td>\n",
       "      <td>1.000000</td>\n",
       "      <td>2.000000</td>\n",
       "      <td>0.660000</td>\n",
       "      <td>0.621200</td>\n",
       "      <td>0.780000</td>\n",
       "      <td>0.253700</td>\n",
       "      <td>48.000000</td>\n",
       "      <td>220.000000</td>\n",
       "      <td>281.000000</td>\n",
       "    </tr>\n",
       "    <tr>\n",
       "      <th>max</th>\n",
       "      <td>17379.0000</td>\n",
       "      <td>4.000000</td>\n",
       "      <td>1.000000</td>\n",
       "      <td>12.000000</td>\n",
       "      <td>23.000000</td>\n",
       "      <td>1.000000</td>\n",
       "      <td>6.000000</td>\n",
       "      <td>1.000000</td>\n",
       "      <td>4.000000</td>\n",
       "      <td>1.000000</td>\n",
       "      <td>1.000000</td>\n",
       "      <td>1.000000</td>\n",
       "      <td>0.850700</td>\n",
       "      <td>367.000000</td>\n",
       "      <td>886.000000</td>\n",
       "      <td>977.000000</td>\n",
       "    </tr>\n",
       "  </tbody>\n",
       "</table>\n",
       "</div>"
      ],
      "text/plain": [
       "          instant        season            yr          mnth            hr  \\\n",
       "count  17379.0000  17379.000000  17379.000000  17379.000000  17379.000000   \n",
       "mean    8690.0000      2.501640      0.502561      6.537775     11.546752   \n",
       "std     5017.0295      1.106918      0.500008      3.438776      6.914405   \n",
       "min        1.0000      1.000000      0.000000      1.000000      0.000000   \n",
       "25%     4345.5000      2.000000      0.000000      4.000000      6.000000   \n",
       "50%     8690.0000      3.000000      1.000000      7.000000     12.000000   \n",
       "75%    13034.5000      3.000000      1.000000     10.000000     18.000000   \n",
       "max    17379.0000      4.000000      1.000000     12.000000     23.000000   \n",
       "\n",
       "            holiday       weekday    workingday    weathersit          temp  \\\n",
       "count  17379.000000  17379.000000  17379.000000  17379.000000  17379.000000   \n",
       "mean       0.028770      3.003683      0.682721      1.425283      0.496987   \n",
       "std        0.167165      2.005771      0.465431      0.639357      0.192556   \n",
       "min        0.000000      0.000000      0.000000      1.000000      0.020000   \n",
       "25%        0.000000      1.000000      0.000000      1.000000      0.340000   \n",
       "50%        0.000000      3.000000      1.000000      1.000000      0.500000   \n",
       "75%        0.000000      5.000000      1.000000      2.000000      0.660000   \n",
       "max        1.000000      6.000000      1.000000      4.000000      1.000000   \n",
       "\n",
       "              atemp           hum     windspeed        casual    registered  \\\n",
       "count  17379.000000  17379.000000  17379.000000  17379.000000  17379.000000   \n",
       "mean       0.475775      0.627229      0.190098     35.676218    153.786869   \n",
       "std        0.171850      0.192930      0.122340     49.305030    151.357286   \n",
       "min        0.000000      0.000000      0.000000      0.000000      0.000000   \n",
       "25%        0.333300      0.480000      0.104500      4.000000     34.000000   \n",
       "50%        0.484800      0.630000      0.194000     17.000000    115.000000   \n",
       "75%        0.621200      0.780000      0.253700     48.000000    220.000000   \n",
       "max        1.000000      1.000000      0.850700    367.000000    886.000000   \n",
       "\n",
       "              count  \n",
       "count  17379.000000  \n",
       "mean     189.463088  \n",
       "std      181.387599  \n",
       "min        1.000000  \n",
       "25%       40.000000  \n",
       "50%      142.000000  \n",
       "75%      281.000000  \n",
       "max      977.000000  "
      ]
     },
     "execution_count": 5,
     "metadata": {},
     "output_type": "execute_result"
    }
   ],
   "source": [
    "bike_data.describe()"
   ]
  },
  {
   "cell_type": "markdown",
   "id": "8dd80a02-8c6f-463e-885a-ff004ad1f4fd",
   "metadata": {},
   "source": [
    "The total average number of users per hour is 189, the average users per hour for registered and casual users per hour is 35 and 153 respectively\n",
    "The minimum users recorded in an hour is 0, the highest record number is 977 for the total, and 886 and 367 for the registered and casual users respectively\n",
    "25% of the hours in our dataset had a total of 40 users or lower\n",
    "50% of the hours in our dataset had a total of 142 users or lower.\n",
    "75% of the hours in our dataset had a total of 281 users or lower.\n",
    "There is a wide variation in the hourly count of users. 25% of hours have less or equal to 40 users, we want more numbers closer to the highest record of users."
   ]
  },
  {
   "cell_type": "markdown",
   "id": "57115b3b-fafc-4091-a5e6-07ef0877baaa",
   "metadata": {},
   "source": [
    "On further exploring our data, there are differences in the number of users at night and day time. Let's deep further on this categories."
   ]
  },
  {
   "cell_type": "code",
   "execution_count": 7,
   "id": "1ea39c89-4109-4559-8f0f-5d73f9e1ed5a",
   "metadata": {},
   "outputs": [
    {
     "name": "stdout",
     "output_type": "stream",
     "text": [
      "An average of  24.908559401309635 users are in in between midnight and 6 AM\n",
      "The highest total count record of users between midnight and 6 AM is:  283\n",
      "The lowest total count record of users between midnight and 6 AM is:  1\n"
     ]
    }
   ],
   "source": [
    "print(\"An average of \", bike_data.loc[(bike_data['hr'] < 6), 'count'].mean(), \"users are in in between midnight and 6 AM\")\n",
    "print(\"The highest total count record of users between midnight and 6 AM is: \", bike_data.loc[(bike_data['hr'] < 6), 'count'].max())\n",
    "print(\"The lowest total count record of users between midnight and 6 AM is: \", bike_data.loc[(bike_data['hr'] < 6), 'count'].min())"
   ]
  },
  {
   "cell_type": "markdown",
   "id": "c616b846-5444-4a98-8037-600882bf7e78",
   "metadata": {},
   "source": [
    "Further Insight on the the midnight to 6 AM users"
   ]
  },
  {
   "cell_type": "code",
   "execution_count": 18,
   "id": "f23bdc8b-9342-4f10-8bc6-748286cf0104",
   "metadata": {},
   "outputs": [
    {
     "name": "stdout",
     "output_type": "stream",
     "text": [
      "Cold early Morning users:  19\n",
      "Warm early Morning users:  25\n"
     ]
    }
   ],
   "source": [
    "#Cold vs warm morning insights\n",
    "print(\"Cold early Morning users: \", int(bike_data.loc[(bike_data['hr'] < 6) & ((bike_data['temp'] < 0.5) | (bike_data['hum'] <0.5)), 'count'].mean()))\n",
    "print(\"Warm early Morning users: \", int(bike_data.loc[(bike_data['hr'] < 6) & ((bike_data['temp'] > 0.5) | (bike_data['hum'] > 0.5)), 'count'].mean()))"
   ]
  },
  {
   "cell_type": "markdown",
   "id": "f4713b38-053c-475d-9fcd-5fbdace91d61",
   "metadata": {},
   "source": [
    "More users on warm mornings in comparison to cold mornings.\n",
    "Lets analyse users on hours > 1900"
   ]
  },
  {
   "cell_type": "code",
   "execution_count": 13,
   "id": "43735b60-9760-4bb6-b70b-a9e93da40879",
   "metadata": {},
   "outputs": [
    {
     "name": "stdout",
     "output_type": "stream",
     "text": [
      "An average of  154  users are between 1900 hrs and midnight\n",
      "The highest record of users between 1900 hrs and midnight is:  584\n",
      "The lowest record of users between 1900 hrs and midnight is:  2\n"
     ]
    }
   ],
   "source": [
    "print(\"An average of \", int(bike_data.loc[bike_data['hr'] > 19, 'count'].mean()), \" users are between 1900 hrs and midnight\")\n",
    "print(\"The highest record of users between 1900 hrs and midnight is: \", bike_data.loc[bike_data['hr'] > 19, 'count'].max())\n",
    "print(\"The lowest record of users between 1900 hrs and midnight is: \", bike_data.loc[bike_data['hr'] > 19, 'count'].min())"
   ]
  },
  {
   "cell_type": "code",
   "execution_count": 17,
   "id": "fe9315c5-abf8-4552-8ecf-bd721033efbf",
   "metadata": {},
   "outputs": [
    {
     "name": "stdout",
     "output_type": "stream",
     "text": [
      "An average of  265  users are between 0600 hrs and 1900 hrs\n",
      "The highest record of users between 6 AM and 7 PM is:  977\n",
      "The lowest record of users between 6 AM and 7 PM is:  1\n"
     ]
    }
   ],
   "source": [
    "print(\"An average of \", int(bike_data.loc[((bike_data['hr'] > 5) & (bike_data['hr'] < 19)), 'count'].mean()), \" users are between 0600 hrs and 1900 hrs\")\n",
    "print(\"The highest record of users between 6 AM and 7 PM is: \", int(bike_data.loc[((bike_data['hr'] > 5) & (bike_data['hr'] < 19)), 'count'].max()))\n",
    "print(\"The lowest record of users between 6 AM and 7 PM is: \", int(bike_data.loc[((bike_data['hr'] > 5) & (bike_data['hr'] < 19)), 'count'].min()))"
   ]
  },
  {
   "cell_type": "markdown",
   "id": "c9006e83-cd19-425c-b30c-35c31b617c31",
   "metadata": {},
   "source": [
    "The average number of users per hour during the day is higher than the day. The business can offer discounts at night to increase the number or reduce prices and more. \n",
    "The year has four seasons around the year. A study on the different behaviors follows. Once again, our aim as the data analyst team is to understand the business better and influence decision making.\n",
    "The seasons are represented as follows.\n",
    "1 - Winter\n",
    "2 - Spring\n",
    "3 - Summer\n",
    "4 - Fall"
   ]
  },
  {
   "cell_type": "code",
   "execution_count": 20,
   "id": "58cc0906-0323-40c0-90e9-e5bf743f8838",
   "metadata": {},
   "outputs": [
    {
     "data": {
      "text/html": [
       "<div>\n",
       "<style scoped>\n",
       "    .dataframe tbody tr th:only-of-type {\n",
       "        vertical-align: middle;\n",
       "    }\n",
       "\n",
       "    .dataframe tbody tr th {\n",
       "        vertical-align: top;\n",
       "    }\n",
       "\n",
       "    .dataframe thead th {\n",
       "        text-align: right;\n",
       "    }\n",
       "</style>\n",
       "<table border=\"1\" class=\"dataframe\">\n",
       "  <thead>\n",
       "    <tr style=\"text-align: right;\">\n",
       "      <th></th>\n",
       "      <th>count</th>\n",
       "    </tr>\n",
       "    <tr>\n",
       "      <th>season</th>\n",
       "      <th></th>\n",
       "    </tr>\n",
       "  </thead>\n",
       "  <tbody>\n",
       "    <tr>\n",
       "      <th>1</th>\n",
       "      <td>111.114569</td>\n",
       "    </tr>\n",
       "    <tr>\n",
       "      <th>2</th>\n",
       "      <td>208.344069</td>\n",
       "    </tr>\n",
       "    <tr>\n",
       "      <th>3</th>\n",
       "      <td>236.016237</td>\n",
       "    </tr>\n",
       "    <tr>\n",
       "      <th>4</th>\n",
       "      <td>198.868856</td>\n",
       "    </tr>\n",
       "  </tbody>\n",
       "</table>\n",
       "</div>"
      ],
      "text/plain": [
       "             count\n",
       "season            \n",
       "1       111.114569\n",
       "2       208.344069\n",
       "3       236.016237\n",
       "4       198.868856"
      ]
     },
     "execution_count": 20,
     "metadata": {},
     "output_type": "execute_result"
    }
   ],
   "source": [
    "season_data = bike_data[['season', 'count']].groupby('season').mean()\n",
    "season_data"
   ]
  },
  {
   "cell_type": "markdown",
   "id": "5ff9e14a-7077-4db2-84ae-85504d0e6354",
   "metadata": {},
   "source": [
    "The winter season has the lowest average record per hour, a trend noted also on cold mornings. Summer holds the highest record, with Spring coming in second at 208, and the Fall season coming in 3rd. \n",
    "How is the business performing during holidays?\n",
    "0 - non holiday\n",
    "1 - holiday"
   ]
  },
  {
   "cell_type": "code",
   "execution_count": 24,
   "id": "095928c7-856e-4b6f-86da-4647579dd734",
   "metadata": {},
   "outputs": [
    {
     "data": {
      "text/html": [
       "<div>\n",
       "<style scoped>\n",
       "    .dataframe tbody tr th:only-of-type {\n",
       "        vertical-align: middle;\n",
       "    }\n",
       "\n",
       "    .dataframe tbody tr th {\n",
       "        vertical-align: top;\n",
       "    }\n",
       "\n",
       "    .dataframe thead th {\n",
       "        text-align: right;\n",
       "    }\n",
       "</style>\n",
       "<table border=\"1\" class=\"dataframe\">\n",
       "  <thead>\n",
       "    <tr style=\"text-align: right;\">\n",
       "      <th></th>\n",
       "      <th>casual</th>\n",
       "      <th>registered</th>\n",
       "      <th>count</th>\n",
       "    </tr>\n",
       "    <tr>\n",
       "      <th>holiday</th>\n",
       "      <th></th>\n",
       "      <th></th>\n",
       "      <th></th>\n",
       "    </tr>\n",
       "  </thead>\n",
       "  <tbody>\n",
       "    <tr>\n",
       "      <th>0</th>\n",
       "      <td>35.408377</td>\n",
       "      <td>155.020203</td>\n",
       "      <td>190.42858</td>\n",
       "    </tr>\n",
       "    <tr>\n",
       "      <th>1</th>\n",
       "      <td>44.718000</td>\n",
       "      <td>112.152000</td>\n",
       "      <td>156.87000</td>\n",
       "    </tr>\n",
       "  </tbody>\n",
       "</table>\n",
       "</div>"
      ],
      "text/plain": [
       "            casual  registered      count\n",
       "holiday                                  \n",
       "0        35.408377  155.020203  190.42858\n",
       "1        44.718000  112.152000  156.87000"
      ]
     },
     "execution_count": 24,
     "metadata": {},
     "output_type": "execute_result"
    }
   ],
   "source": [
    "holiday_data = bike_data[['holiday', 'casual', 'registered', 'count']].groupby('holiday').mean()\n",
    "holiday_data"
   ]
  },
  {
   "cell_type": "markdown",
   "id": "edfea0eb-b0a1-4d83-a3b5-42311733d980",
   "metadata": {},
   "source": [
    "More casual users per hour during holidays, Less registered users borrow the bikes during holiday in comparison to non-holidays.\n",
    "How is the borrowing rate during holidays and non holidays over the 4 seasons?"
   ]
  },
  {
   "cell_type": "code",
   "execution_count": 30,
   "id": "f20f7fca-f6fc-4df3-bccd-273f4861449d",
   "metadata": {},
   "outputs": [
    {
     "data": {
      "text/html": [
       "<div>\n",
       "<style scoped>\n",
       "    .dataframe tbody tr th:only-of-type {\n",
       "        vertical-align: middle;\n",
       "    }\n",
       "\n",
       "    .dataframe tbody tr th {\n",
       "        vertical-align: top;\n",
       "    }\n",
       "\n",
       "    .dataframe thead th {\n",
       "        text-align: right;\n",
       "    }\n",
       "</style>\n",
       "<table border=\"1\" class=\"dataframe\">\n",
       "  <thead>\n",
       "    <tr style=\"text-align: right;\">\n",
       "      <th></th>\n",
       "      <th></th>\n",
       "      <th>casual</th>\n",
       "      <th>registered</th>\n",
       "      <th>count</th>\n",
       "    </tr>\n",
       "    <tr>\n",
       "      <th>holiday</th>\n",
       "      <th>season</th>\n",
       "      <th></th>\n",
       "      <th></th>\n",
       "      <th></th>\n",
       "    </tr>\n",
       "  </thead>\n",
       "  <tbody>\n",
       "    <tr>\n",
       "      <th rowspan=\"4\" valign=\"top\">0</th>\n",
       "      <th>1</th>\n",
       "      <td>14.339627</td>\n",
       "      <td>98.346248</td>\n",
       "      <td>112.685875</td>\n",
       "    </tr>\n",
       "    <tr>\n",
       "      <th>2</th>\n",
       "      <td>45.809413</td>\n",
       "      <td>162.619059</td>\n",
       "      <td>208.428472</td>\n",
       "    </tr>\n",
       "    <tr>\n",
       "      <th>3</th>\n",
       "      <td>49.377955</td>\n",
       "      <td>186.598864</td>\n",
       "      <td>235.976818</td>\n",
       "    </tr>\n",
       "    <tr>\n",
       "      <th>4</th>\n",
       "      <td>30.416341</td>\n",
       "      <td>169.549658</td>\n",
       "      <td>199.965998</td>\n",
       "    </tr>\n",
       "    <tr>\n",
       "      <th rowspan=\"4\" valign=\"top\">1</th>\n",
       "      <th>1</th>\n",
       "      <td>13.079268</td>\n",
       "      <td>58.963415</td>\n",
       "      <td>72.042683</td>\n",
       "    </tr>\n",
       "    <tr>\n",
       "      <th>2</th>\n",
       "      <td>61.937500</td>\n",
       "      <td>142.614583</td>\n",
       "      <td>204.552083</td>\n",
       "    </tr>\n",
       "    <tr>\n",
       "      <th>3</th>\n",
       "      <td>91.958333</td>\n",
       "      <td>145.864583</td>\n",
       "      <td>237.822917</td>\n",
       "    </tr>\n",
       "    <tr>\n",
       "      <th>4</th>\n",
       "      <td>37.777778</td>\n",
       "      <td>129.944444</td>\n",
       "      <td>167.722222</td>\n",
       "    </tr>\n",
       "  </tbody>\n",
       "</table>\n",
       "</div>"
      ],
      "text/plain": [
       "                   casual  registered       count\n",
       "holiday season                                   \n",
       "0       1       14.339627   98.346248  112.685875\n",
       "        2       45.809413  162.619059  208.428472\n",
       "        3       49.377955  186.598864  235.976818\n",
       "        4       30.416341  169.549658  199.965998\n",
       "1       1       13.079268   58.963415   72.042683\n",
       "        2       61.937500  142.614583  204.552083\n",
       "        3       91.958333  145.864583  237.822917\n",
       "        4       37.777778  129.944444  167.722222"
      ]
     },
     "execution_count": 30,
     "metadata": {},
     "output_type": "execute_result"
    }
   ],
   "source": [
    "season_holiday_data = bike_data[['season', 'holiday', 'casual', 'registered', 'count']].groupby(['holiday', 'season']).mean()\n",
    "season_holiday_data"
   ]
  },
  {
   "cell_type": "code",
   "execution_count": 31,
   "id": "b353f232-88a1-4f2a-99a2-9bc1bf3e3687",
   "metadata": {},
   "outputs": [
    {
     "data": {
      "text/plain": [
       "Text(0.5, 1.0, 'Total Count by hour')"
      ]
     },
     "execution_count": 31,
     "metadata": {},
     "output_type": "execute_result"
    },
    {
     "data": {
      "image/png": "[encoded data removed]",
      "text/plain": [
       "<Figure size 1000x600 with 1 Axes>"
      ]
     },
     "metadata": {},
     "output_type": "display_data"
    }
   ],
   "source": [
    "import seaborn as sns\n",
    "fig, ax = plt.subplots(figsize = (10, 6))\n",
    "sns.boxplot(x  = 'hr', y = 'count', data = bike_data)\n",
    "plt.ylabel(\"Total Count\")\n",
    "plt.xlabel(\"Hours\")\n",
    "plt.title(\"Total Count by hour\")"
   ]
  },
  {
   "cell_type": "code",
   "execution_count": null,
   "id": "91b59112-97a9-4a35-9372-674d65a888b6",
   "metadata": {},
   "outputs": [],
   "source": []
  }
 ],
 "metadata": {
  "kernelspec": {
   "display_name": "Python 3 (ipykernel)",
   "language": "python",
   "name": "python3"
  },
  "language_info": {
   "codemirror_mode": {
    "name": "ipython",
    "version": 3
   },
   "file_extension": ".py",
   "mimetype": "text/x-python",
   "name": "python",
   "nbconvert_exporter": "python",
   "pygments_lexer": "ipython3",
   "version": "3.11.5"
  }
 },
 "nbformat": 4,
 "nbformat_minor": 5
}
